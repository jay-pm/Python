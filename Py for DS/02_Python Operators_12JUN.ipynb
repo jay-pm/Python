{
  "nbformat": 4,
  "nbformat_minor": 0,
  "metadata": {
    "colab": {
      "name": "02_Python Operators_12JUN.ipynb",
      "version": "0.3.2",
      "provenance": [],
      "collapsed_sections": []
    },
    "language_info": {
      "codemirror_mode": {
        "name": "ipython",
        "version": 3
      },
      "file_extension": ".py",
      "mimetype": "text/x-python",
      "name": "python",
      "nbconvert_exporter": "python",
      "pygments_lexer": "ipython3",
      "version": "3.6.6"
    },
    "kernelspec": {
      "display_name": "Python 3",
      "language": "python",
      "name": "python3"
    }
  },
  "cells": [
    {
      "cell_type": "markdown",
      "metadata": {
        "id": "ozAi-bSDZfAx",
        "colab_type": "text"
      },
      "source": [
        "<table class=\"tfo-notebook-buttons\" align=\"left\">\n",
        "  <td>\n",
        "    <a target=\"_blank\" href=\"https://colab.research.google.com/drive/1ys6_6xNKGVsHF9IvgQCa_L3zwJWfX3-4#scrollTo=ozAi-bSDZfAx\"><img src=\"https://www.tensorflow.org/images/colab_logo_32px.png\" />Run in Google Colab</a>\n",
        "  </td>\n",
        "  <td>\n",
        "    <a target=\"_blank\" href=\"https://github.com/jay-pm/Python/blob/master/Py%20for%20DS/02_Python%20Operators_12JUN.ipynb\"><img src=\"https://www.tensorflow.org/images/GitHub-Mark-32px.png\" />View source on GitHub</a>\n",
        "  </td>\n",
        "</table>"
      ]
    },
    {
      "cell_type": "markdown",
      "metadata": {
        "id": "ELxnBc99ZIWb",
        "colab_type": "text"
      },
      "source": [
        "## Python Operators"
      ]
    },
    {
      "cell_type": "markdown",
      "metadata": {
        "id": "OezWD67YZQ4B",
        "colab_type": "text"
      },
      "source": [
        ""
      ]
    },
    {
      "cell_type": "markdown",
      "metadata": {
        "id": "SHOfvQEMZIWc",
        "colab_type": "text"
      },
      "source": [
        "**Operators**: Operators are special symbols in Python that carry out arithmetic or logical computation. The value that the operator operates on is called the operand.\n",
        "\n",
        "Types:\n",
        "1. Airthmetic operator\n",
        "2. Comparision operators\n",
        "3. Logical operators\n",
        "4. Bitwise Operators\n",
        "5. Assignment Operators\n",
        "6. Special Operators\n",
        "    - Indentity Operator\n",
        "    - Membership Operator\n",
        "\n",
        "2 + 4 = 6\n",
        "- Here '+' is the operator, 2 and 4 are operands and 6 is the output of operation."
      ]
    },
    {
      "cell_type": "markdown",
      "metadata": {
        "id": "ZrEWRkk-ZIWd",
        "colab_type": "text"
      },
      "source": [
        "### 1. Airthmetic operator\n",
        "\n",
        "- Addition (+)\n",
        "- Substraction (-)\n",
        "- Multiplication (*)\n",
        "- Division (/) [always results into float]\n",
        "- Modulus (%)\n",
        "- Floor division (//) [division that results into whole number]\n",
        "- Exponent (**)"
      ]
    },
    {
      "cell_type": "code",
      "metadata": {
        "id": "cM92giR9ZIWe",
        "colab_type": "code",
        "outputId": "300f9fba-6a40-4b34-be2e-9f624ca07e5d",
        "colab": {}
      },
      "source": [
        "print(2 + 3)\n",
        "print(5 - 3)\n",
        "print('jay' * 3)\n",
        "print(10 / 2)\n",
        "print(9 % 2)\n",
        "print(10 // 2)\n",
        "print(2**3)"
      ],
      "execution_count": 0,
      "outputs": [
        {
          "output_type": "stream",
          "text": [
            "5\n",
            "2\n",
            "jayjayjay\n",
            "5.0\n",
            "1\n",
            "5\n",
            "8\n"
          ],
          "name": "stdout"
        }
      ]
    },
    {
      "cell_type": "markdown",
      "metadata": {
        "id": "QzU69RpuZIWk",
        "colab_type": "text"
      },
      "source": [
        "### 2. Comparision operator\n",
        "\n",
        "- Less than (<)\n",
        "- Less than or equal to (<=)\n",
        "- Equal to (==)\n",
        "- Greater than (>)\n",
        "- Greater than or equal to (>=)\n",
        "- Not equal to (!=)\n",
        "\n",
        "Always returns True or Flase value"
      ]
    },
    {
      "cell_type": "code",
      "metadata": {
        "id": "2lN5R7ARZIWl",
        "colab_type": "code",
        "outputId": "b6f12264-4392-426e-fc06-df17a8acc744",
        "colab": {}
      },
      "source": [
        "x = 2\n",
        "y = 4\n",
        "\n",
        "print('x > y  is',x>y)\n",
        "print('x < y  is',x<y)\n",
        "print('x == y is',x==y)\n",
        "print('x != y is',x!=y)\n",
        "print('x >= y is',x>=y)\n",
        "print('x <= y is',x<=y)"
      ],
      "execution_count": 0,
      "outputs": [
        {
          "output_type": "stream",
          "text": [
            "x > y  is False\n",
            "x < y  is True\n",
            "x == y is False\n",
            "x != y is True\n",
            "x >= y is False\n",
            "x <= y is True\n"
          ],
          "name": "stdout"
        }
      ]
    },
    {
      "cell_type": "markdown",
      "metadata": {
        "id": "lIKCfS19ZIWx",
        "colab_type": "text"
      },
      "source": [
        "### 3. Logical operators\n",
        "**and** operator: Returns the first False value, if not found returns last"
      ]
    },
    {
      "cell_type": "code",
      "metadata": {
        "id": "eT9KyB_bZIWy",
        "colab_type": "code",
        "outputId": "287865ac-6753-435c-e04c-b6fb79f759fa",
        "colab": {}
      },
      "source": [
        "3 and 5"
      ],
      "execution_count": 0,
      "outputs": [
        {
          "output_type": "execute_result",
          "data": {
            "text/plain": [
              "5"
            ]
          },
          "metadata": {
            "tags": []
          },
          "execution_count": 2
        }
      ]
    },
    {
      "cell_type": "code",
      "metadata": {
        "id": "dq5VJsOXZIXH",
        "colab_type": "code",
        "outputId": "f64b7e6c-f847-425f-c5fb-ce908ff96923",
        "colab": {}
      },
      "source": [
        "True and False # returns the last value"
      ],
      "execution_count": 0,
      "outputs": [
        {
          "output_type": "execute_result",
          "data": {
            "text/plain": [
              "False"
            ]
          },
          "metadata": {
            "tags": []
          },
          "execution_count": 3
        }
      ]
    },
    {
      "cell_type": "code",
      "metadata": {
        "id": "CsQ9ySUIZIXR",
        "colab_type": "code",
        "outputId": "c3942d89-e703-413e-8d5d-02f619f3e0a0",
        "colab": {}
      },
      "source": [
        "False and True # returns the 1st False value"
      ],
      "execution_count": 0,
      "outputs": [
        {
          "output_type": "execute_result",
          "data": {
            "text/plain": [
              "False"
            ]
          },
          "metadata": {
            "tags": []
          },
          "execution_count": 5
        }
      ]
    },
    {
      "cell_type": "code",
      "metadata": {
        "id": "OSnZ3_z_ZIXl",
        "colab_type": "code",
        "outputId": "8f3bc2ce-01dc-46e9-f7b6-17f8521d219c",
        "colab": {}
      },
      "source": [
        "0 and 1 # returns the 1st false value"
      ],
      "execution_count": 0,
      "outputs": [
        {
          "output_type": "execute_result",
          "data": {
            "text/plain": [
              "0"
            ]
          },
          "metadata": {
            "tags": []
          },
          "execution_count": 4
        }
      ]
    },
    {
      "cell_type": "markdown",
      "metadata": {
        "id": "-it9Cuq_ZIYI",
        "colab_type": "text"
      },
      "source": [
        "**or** operator returns the first True value, if not found returns the last value"
      ]
    },
    {
      "cell_type": "code",
      "metadata": {
        "id": "CI-02cpnZIYK",
        "colab_type": "code",
        "outputId": "5686bf87-21b2-4599-e2d0-06b20a4e7305",
        "colab": {}
      },
      "source": [
        "3 or 5"
      ],
      "execution_count": 0,
      "outputs": [
        {
          "output_type": "execute_result",
          "data": {
            "text/plain": [
              "3"
            ]
          },
          "metadata": {
            "tags": []
          },
          "execution_count": 6
        }
      ]
    },
    {
      "cell_type": "code",
      "metadata": {
        "id": "dUXTNZy6ZIYZ",
        "colab_type": "code",
        "outputId": "d3b00f2c-92ac-4296-a2c5-de840270c4a6",
        "colab": {}
      },
      "source": [
        "0 or 1"
      ],
      "execution_count": 0,
      "outputs": [
        {
          "output_type": "execute_result",
          "data": {
            "text/plain": [
              "1"
            ]
          },
          "metadata": {
            "tags": []
          },
          "execution_count": 7
        }
      ]
    },
    {
      "cell_type": "code",
      "metadata": {
        "id": "1TyHW6QEZIYp",
        "colab_type": "code",
        "outputId": "ed24c73f-1e18-4e77-dc9e-26331ec2fc87",
        "colab": {}
      },
      "source": [
        "False or True"
      ],
      "execution_count": 0,
      "outputs": [
        {
          "output_type": "execute_result",
          "data": {
            "text/plain": [
              "True"
            ]
          },
          "metadata": {
            "tags": []
          },
          "execution_count": 9
        }
      ]
    },
    {
      "cell_type": "markdown",
      "metadata": {
        "id": "5BGzYkKOZIZP",
        "colab_type": "text"
      },
      "source": [
        "**not** operator flips the boolean value of operand"
      ]
    },
    {
      "cell_type": "code",
      "metadata": {
        "id": "e20vnEcPZIZR",
        "colab_type": "code",
        "outputId": "e8496c2c-37d3-49a0-aacb-1877e55eee5f",
        "colab": {}
      },
      "source": [
        "not 0 # boolean value of 0 is false and not operator flips it"
      ],
      "execution_count": 0,
      "outputs": [
        {
          "output_type": "execute_result",
          "data": {
            "text/plain": [
              "True"
            ]
          },
          "metadata": {
            "tags": []
          },
          "execution_count": 10
        }
      ]
    },
    {
      "cell_type": "code",
      "metadata": {
        "id": "tSBnGKZ7ZIZV",
        "colab_type": "code",
        "outputId": "85bd0c53-a75f-475d-a666-404f0ded1832",
        "colab": {}
      },
      "source": [
        "not True # boolean value of True is True and not operator flips it"
      ],
      "execution_count": 0,
      "outputs": [
        {
          "output_type": "execute_result",
          "data": {
            "text/plain": [
              "False"
            ]
          },
          "metadata": {
            "tags": []
          },
          "execution_count": 11
        }
      ]
    },
    {
      "cell_type": "code",
      "metadata": {
        "id": "9Oj5uFugZIZZ",
        "colab_type": "code",
        "outputId": "5571d9ab-a836-4b3e-8725-c9d0f0d794b6",
        "colab": {}
      },
      "source": [
        "not 'jay' # boolean value of 'jay' is True and not operator flips it"
      ],
      "execution_count": 0,
      "outputs": [
        {
          "output_type": "execute_result",
          "data": {
            "text/plain": [
              "False"
            ]
          },
          "metadata": {
            "tags": []
          },
          "execution_count": 12
        }
      ]
    },
    {
      "cell_type": "markdown",
      "metadata": {
        "id": "6_Gv5RqnZIZz",
        "colab_type": "text"
      },
      "source": [
        "**Note:** 'and', 'or' returns one of the operand, while 'not' returns True or False"
      ]
    }
  ]
}