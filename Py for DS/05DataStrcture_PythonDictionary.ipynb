{
 "cells": [
  {
   "cell_type": "markdown",
   "metadata": {
    "colab_type": "text",
    "id": "U07AnRbvp_Wx"
   },
   "source": [
    "## Dictionary"
   ]
  },
  {
   "attachments": {},
   "cell_type": "markdown",
   "metadata": {},
   "source": [
    "why dict? \n",
    "- To access related values from two lists is time consuming and inconvenient. Refer below code:\n",
    "        countries = ['spain', 'france', 'germany', 'norway']\n",
    "        capitals = ['madrid', 'paris', 'berlin', 'oslo']\n",
    "- properties: unordered, iterable, mutable, can contain multiple data types\n",
    "- you need to use curly braces to create dictionary\n",
    "- inside curly braces we will have key: value pairs\n",
    "- colon i.e. “:” separates the key value pairs\n",
    "- you pass the key in square bracket to the dict name and get corresponding value\n",
    "- keys in a dictionary should be unique\n",
    "- the keys in a dictionary are immutable objects i.e. they can not be changed once they are created.\n",
    "- indexed by unique keys [ where as a list is indexed by a range of numbers]"
   ]
  },
  {
   "cell_type": "markdown",
   "metadata": {},
   "source": [
    "## Dictionary Or List?"
   ]
  },
  {
   "cell_type": "markdown",
   "metadata": {},
   "source": [
    "**List and Dictionary, when to use?**\n",
    "- if you have a collection of values where the order matters and you want to easily select entire subset of data go with List.\n",
    "- If you need some kind of lookup table where looking for data should be fast and where you can specify unique keys, a Dictionary is preferred option."
   ]
  },
  {
   "cell_type": "markdown",
   "metadata": {
    "colab_type": "text",
    "id": "aeCMOjuqwFnT"
   },
   "source": [
    "### why dict?"
   ]
  },
  {
   "cell_type": "code",
   "execution_count": 1,
   "metadata": {
    "colab": {
     "base_uri": "https://localhost:8080/",
     "height": 33
    },
    "colab_type": "code",
    "id": "Rc0JkpnmrHUt",
    "outputId": "d9fe1cfc-6df4-46d5-f9fa-b52af06cd65e"
   },
   "outputs": [
    {
     "name": "stdout",
     "output_type": "stream",
     "text": [
      "berlin\n"
     ]
    }
   ],
   "source": [
    "# why dictionary\n",
    "\n",
    "# Definition of countries and capital\n",
    "countries = ['spain', 'france', 'germany', 'norway']\n",
    "capitals = ['madrid', 'paris', 'berlin', 'oslo']\n",
    "\n",
    "# Get index of 'germany': ind_ger\n",
    "ind_ger = countries.index(\"germany\")\n",
    "\n",
    "# Use ind_ger to print out capital of Germany\n",
    "print (capitals[ind_ger])"
   ]
  },
  {
   "cell_type": "code",
   "execution_count": 37,
   "metadata": {
    "colab": {
     "base_uri": "https://localhost:8080/",
     "height": 33
    },
    "colab_type": "code",
    "id": "S_jv-iNesmLs",
    "outputId": "158b39e5-c6d9-4ad2-ea1c-21fc41a6b9d6"
   },
   "outputs": [
    {
     "data": {
      "text/plain": [
       "'berlin'"
      ]
     },
     "execution_count": 37,
     "metadata": {
      "tags": []
     },
     "output_type": "execute_result"
    }
   ],
   "source": [
    "# do the above task with below code which is pretty fast and convinient.\n",
    "# From string in countries and capitals, create dictionary europe\n",
    "country_capital = {\"spain\": \"madrid\", \"france\":\"paris\", \"germany\":\"berlin\", \"norway\": \"oslo\"}\n",
    "country_capital['germany']"
   ]
  },
  {
   "cell_type": "code",
   "execution_count": 52,
   "metadata": {
    "colab": {
     "base_uri": "https://localhost:8080/",
     "height": 33
    },
    "colab_type": "code",
    "id": "fE8Tzb-WChQv",
    "outputId": "f346ceff-5bac-4eb4-e6bf-7b360f28959d"
   },
   "outputs": [
    {
     "data": {
      "text/plain": [
       "{'france': 'paris', 'germany': 'berlin', 'norway': 'oslo', 'spain': 'madrid'}"
      ]
     },
     "execution_count": 52,
     "metadata": {
      "tags": []
     },
     "output_type": "execute_result"
    }
   ],
   "source": [
    "# create dictionary using zip method\n",
    "concap = dict(zip(countries,capitals))\n",
    "concap"
   ]
  },
  {
   "cell_type": "markdown",
   "metadata": {
    "colab_type": "text",
    "id": "PjZ5SqilwNpx"
   },
   "source": [
    "### key and values"
   ]
  },
  {
   "cell_type": "code",
   "execution_count": 2,
   "metadata": {
    "colab": {
     "base_uri": "https://localhost:8080/",
     "height": 33
    },
    "colab_type": "code",
    "id": "jhYwn67Jp7Fb",
    "outputId": "21b9f1d3-f97c-409b-d936-d5a9984e3a20"
   },
   "outputs": [
    {
     "name": "stdout",
     "output_type": "stream",
     "text": [
      "<class 'dict'> <class 'dict'>\n"
     ]
    }
   ],
   "source": [
    "# create dictionary\n",
    "empty_dict1 = {}\n",
    "empty_dict2 = dict()\n",
    "\n",
    "# check data type\n",
    "print(type(empty_dict1),type(empty_dict2))"
   ]
  },
  {
   "cell_type": "code",
   "execution_count": 10,
   "metadata": {
    "colab": {
     "base_uri": "https://localhost:8080/",
     "height": 50
    },
    "colab_type": "code",
    "id": "VbmykcSBr1ei",
    "outputId": "b9756e34-0e83-40a4-cd2a-238951e14cb2"
   },
   "outputs": [
    {
     "name": "stdout",
     "output_type": "stream",
     "text": [
      "dict_keys(['spain', 'france', 'germany', 'norway']) \n",
      " dict_values(['madrid', 'paris', 'berlin', 'oslo'])\n"
     ]
    }
   ],
   "source": [
    "# check all key and values\n",
    "print(country_capital.keys(),'\\n',country_capital.values())"
   ]
  },
  {
   "cell_type": "code",
   "execution_count": 16,
   "metadata": {
    "colab": {
     "base_uri": "https://localhost:8080/",
     "height": 33
    },
    "colab_type": "code",
    "id": "Tps1FL1ZuN6L",
    "outputId": "61dd0b67-72b3-4b23-a824-387fcfe3b4a2"
   },
   "outputs": [
    {
     "data": {
      "text/plain": [
       "dict_items([('spain', 'madrid'), ('france', 'paris'), ('germany', 'berlin'), ('norway', 'oslo')])"
      ]
     },
     "execution_count": 16,
     "metadata": {
      "tags": []
     },
     "output_type": "execute_result"
    }
   ],
   "source": [
    "# check all key value pairs with items\n",
    "country_capital.items()"
   ]
  },
  {
   "cell_type": "code",
   "execution_count": 17,
   "metadata": {
    "colab": {
     "base_uri": "https://localhost:8080/",
     "height": 33
    },
    "colab_type": "code",
    "id": "qV4--BiJudAQ",
    "outputId": "8d5446bb-3835-4bc7-c662-2fda52afbe46"
   },
   "outputs": [
    {
     "data": {
      "text/plain": [
       "4"
      ]
     },
     "execution_count": 17,
     "metadata": {
      "tags": []
     },
     "output_type": "execute_result"
    }
   ],
   "source": [
    "# check length of dictionary\n",
    "len(country_capital)"
   ]
  },
  {
   "cell_type": "code",
   "execution_count": 22,
   "metadata": {
    "colab": {
     "base_uri": "https://localhost:8080/",
     "height": 191
    },
    "colab_type": "code",
    "id": "K2Zd6DFPuuFM",
    "outputId": "6135050e-98a8-4a8a-b4ba-0fa9633ae04a"
   },
   "outputs": [
    {
     "name": "stdout",
     "output_type": "stream",
     "text": [
      "madrid\n"
     ]
    },
    {
     "ename": "KeyError",
     "evalue": "ignored",
     "output_type": "error",
     "traceback": [
      "\u001b[0;31m---------------------------------------------------------------------------\u001b[0m",
      "\u001b[0;31mKeyError\u001b[0m                                  Traceback (most recent call last)",
      "\u001b[0;32m<ipython-input-22-e1e0629bc64a>\u001b[0m in \u001b[0;36m<module>\u001b[0;34m()\u001b[0m\n\u001b[1;32m      1\u001b[0m \u001b[0mprint\u001b[0m\u001b[0;34m(\u001b[0m\u001b[0mcountry_capital\u001b[0m\u001b[0;34m[\u001b[0m\u001b[0;34m'spain'\u001b[0m\u001b[0;34m]\u001b[0m\u001b[0;34m)\u001b[0m\u001b[0;34m\u001b[0m\u001b[0;34m\u001b[0m\u001b[0m\n\u001b[0;32m----> 2\u001b[0;31m \u001b[0mprint\u001b[0m\u001b[0;34m(\u001b[0m\u001b[0mcountry_capital\u001b[0m\u001b[0;34m[\u001b[0m\u001b[0;36m0\u001b[0m\u001b[0;34m]\u001b[0m\u001b[0;34m)\u001b[0m\u001b[0;34m\u001b[0m\u001b[0;34m\u001b[0m\u001b[0m\n\u001b[0m",
      "\u001b[0;31mKeyError\u001b[0m: 0"
     ]
    }
   ],
   "source": [
    "# access dict elements: pass key in square bracket\n",
    "print(country_capital['spain'])\n",
    "print(country_capital[0]) # dicts are indexed by keys and not by numbers as in list"
   ]
  },
  {
   "cell_type": "code",
   "execution_count": 51,
   "metadata": {
    "colab": {
     "base_uri": "https://localhost:8080/",
     "height": 223
    },
    "colab_type": "code",
    "id": "mwpUqSRN6BQ_",
    "outputId": "71f3ad46-262e-4a13-b8d6-bb8e5c2b969c"
   },
   "outputs": [
    {
     "name": "stdout",
     "output_type": "stream",
     "text": [
      "Delhi\n",
      "None\n"
     ]
    },
    {
     "ename": "KeyError",
     "evalue": "ignored",
     "output_type": "error",
     "traceback": [
      "\u001b[0;31m---------------------------------------------------------------------------\u001b[0m",
      "\u001b[0;31mKeyError\u001b[0m                                  Traceback (most recent call last)",
      "\u001b[0;32m<ipython-input-51-ce6b97ae0df8>\u001b[0m in \u001b[0;36m<module>\u001b[0;34m()\u001b[0m\n\u001b[1;32m      1\u001b[0m \u001b[0mprint\u001b[0m\u001b[0;34m(\u001b[0m\u001b[0mcountry_capital\u001b[0m\u001b[0;34m.\u001b[0m\u001b[0mget\u001b[0m\u001b[0;34m(\u001b[0m\u001b[0;34m'India'\u001b[0m\u001b[0;34m)\u001b[0m\u001b[0;34m)\u001b[0m\u001b[0;34m\u001b[0m\u001b[0;34m\u001b[0m\u001b[0m\n\u001b[1;32m      2\u001b[0m \u001b[0mprint\u001b[0m\u001b[0;34m(\u001b[0m\u001b[0mcountry_capital\u001b[0m\u001b[0;34m.\u001b[0m\u001b[0mget\u001b[0m\u001b[0;34m(\u001b[0m\u001b[0;34m'vietnam'\u001b[0m\u001b[0;34m)\u001b[0m\u001b[0;34m)\u001b[0m\u001b[0;34m\u001b[0m\u001b[0;34m\u001b[0m\u001b[0m\n\u001b[0;32m----> 3\u001b[0;31m \u001b[0mprint\u001b[0m\u001b[0;34m(\u001b[0m\u001b[0mcountry_capital\u001b[0m\u001b[0;34m[\u001b[0m\u001b[0;34m'vietnam'\u001b[0m\u001b[0;34m]\u001b[0m\u001b[0;34m)\u001b[0m\u001b[0;34m\u001b[0m\u001b[0;34m\u001b[0m\u001b[0m\n\u001b[0m",
      "\u001b[0;31mKeyError\u001b[0m: 'vietnam'"
     ]
    }
   ],
   "source": [
    "# access values with get\n",
    "print(country_capital.get('India'))\n",
    "print(country_capital.get('vietnam'))\n",
    "print(country_capital['vietnam'])"
   ]
  },
  {
   "cell_type": "code",
   "execution_count": 13,
   "metadata": {
    "colab": {
     "base_uri": "https://localhost:8080/",
     "height": 50
    },
    "colab_type": "code",
    "id": "wTfHCafrtUI5",
    "outputId": "cf5ccc39-6c35-47ea-9e2c-78e63d4419a9"
   },
   "outputs": [
    {
     "name": "stdout",
     "output_type": "stream",
     "text": [
      "True\n",
      "True\n"
     ]
    }
   ],
   "source": [
    "# check if a key is available in a dictionary\n",
    "print('spain' in country_capital)\n",
    "print('spain' in country_capital.keys())"
   ]
  },
  {
   "cell_type": "code",
   "execution_count": 15,
   "metadata": {
    "colab": {
     "base_uri": "https://localhost:8080/",
     "height": 50
    },
    "colab_type": "code",
    "id": "vYuwpl8CtqUU",
    "outputId": "d55d2528-ed1f-4eec-f03c-1ddf21065fb4"
   },
   "outputs": [
    {
     "name": "stdout",
     "output_type": "stream",
     "text": [
      "False\n",
      "True\n"
     ]
    }
   ],
   "source": [
    "# check if a value is available in a dictionary\n",
    "print('madrid' in country_capital)\n",
    "print('madrid' in country_capital.values())"
   ]
  },
  {
   "cell_type": "markdown",
   "metadata": {
    "colab_type": "text",
    "id": "85t_LBXywD3q"
   },
   "source": [
    "### dict operations"
   ]
  },
  {
   "cell_type": "code",
   "execution_count": 38,
   "metadata": {
    "colab": {
     "base_uri": "https://localhost:8080/",
     "height": 98
    },
    "colab_type": "code",
    "id": "rmv41xJEwVSF",
    "outputId": "5ecd0340-e714-45f1-ea91-3db5683e836c"
   },
   "outputs": [
    {
     "data": {
      "text/plain": [
       "{'India': 'Delhi',\n",
       " 'france': 'paris',\n",
       " 'germany': 'berlin',\n",
       " 'norway': 'oslo',\n",
       " 'spain': 'madrid'}"
      ]
     },
     "execution_count": 38,
     "metadata": {
      "tags": []
     },
     "output_type": "execute_result"
    }
   ],
   "source": [
    "# add new key-value\n",
    "country_capital['India'] = 'Delhi'\n",
    "country_capital"
   ]
  },
  {
   "cell_type": "code",
   "execution_count": 39,
   "metadata": {
    "colab": {
     "base_uri": "https://localhost:8080/",
     "height": 131
    },
    "colab_type": "code",
    "id": "IpXivtkpwtuG",
    "outputId": "16660267-a31a-43c6-d380-4d5048b151cd"
   },
   "outputs": [
    {
     "data": {
      "text/plain": [
       "{'India': 'Delhi',\n",
       " 'UK': 'London',\n",
       " 'US': 'WDC',\n",
       " 'france': 'paris',\n",
       " 'germany': 'berlin',\n",
       " 'norway': 'oslo',\n",
       " 'spain': 'madrid'}"
      ]
     },
     "execution_count": 39,
     "metadata": {
      "tags": []
     },
     "output_type": "execute_result"
    }
   ],
   "source": [
    "# add multiple items using update\n",
    "country_capital.update({'UK':'London', 'US':'WDC'})\n",
    "country_capital"
   ]
  },
  {
   "cell_type": "code",
   "execution_count": 40,
   "metadata": {
    "colab": {
     "base_uri": "https://localhost:8080/",
     "height": 115
    },
    "colab_type": "code",
    "id": "Q4WqZcy7yVH0",
    "outputId": "cd340933-32d2-4c13-d8de-f89b9cfc7eff"
   },
   "outputs": [
    {
     "data": {
      "text/plain": [
       "{'India': 'Delhi',\n",
       " 'UK': 'London',\n",
       " 'france': 'paris',\n",
       " 'germany': 'berlin',\n",
       " 'norway': 'oslo',\n",
       " 'spain': 'madrid'}"
      ]
     },
     "execution_count": 40,
     "metadata": {
      "tags": []
     },
     "output_type": "execute_result"
    }
   ],
   "source": [
    "# remove a key using del\n",
    "del country_capital['US']\n",
    "country_capital"
   ]
  },
  {
   "cell_type": "code",
   "execution_count": 41,
   "metadata": {
    "colab": {
     "base_uri": "https://localhost:8080/",
     "height": 98
    },
    "colab_type": "code",
    "id": "y6R4Ac-2yocv",
    "outputId": "b1815c65-f3f1-4786-bd1e-069e50a26472"
   },
   "outputs": [
    {
     "data": {
      "text/plain": [
       "{'India': 'Delhi',\n",
       " 'UK': 'London',\n",
       " 'france': 'paris',\n",
       " 'germany': 'berlin',\n",
       " 'spain': 'madrid'}"
      ]
     },
     "execution_count": 41,
     "metadata": {
      "tags": []
     },
     "output_type": "execute_result"
    }
   ],
   "source": [
    "# remove a key using pop\n",
    "country_capital.pop('norway')\n",
    "country_capital"
   ]
  },
  {
   "cell_type": "code",
   "execution_count": 45,
   "metadata": {
    "colab": {
     "base_uri": "https://localhost:8080/",
     "height": 50
    },
    "colab_type": "code",
    "id": "I5sOl_Q32-ML",
    "outputId": "ce8ada7b-b1db-492c-8393-0b1efb70f05a"
   },
   "outputs": [
    {
     "name": "stdout",
     "output_type": "stream",
     "text": [
      "True\n",
      "False\n"
     ]
    }
   ],
   "source": [
    "# make a copy and check equality of value and memory reference\n",
    "country_capital1=country_capital.copy()\n",
    "print(country_capital1 == country_capital) # check content\n",
    "print(country_capital1 is country_capital) # check reference"
   ]
  },
  {
   "cell_type": "code",
   "execution_count": 46,
   "metadata": {
    "colab": {
     "base_uri": "https://localhost:8080/",
     "height": 50
    },
    "colab_type": "code",
    "id": "g7jt_bb92QQQ",
    "outputId": "55ee3f27-c7ea-4c6d-c87f-98d53c50afb2"
   },
   "outputs": [
    {
     "name": "stdout",
     "output_type": "stream",
     "text": [
      "{}\n",
      "{'spain': 'madrid', 'france': 'paris', 'germany': 'berlin', 'India': 'Delhi', 'UK': 'London'}\n"
     ]
    }
   ],
   "source": [
    "# clear a dictionary\n",
    "country_capital1.clear()\n",
    "print(country_capital1)\n",
    "print(country_capital)"
   ]
  },
  {
   "cell_type": "code",
   "execution_count": 36,
   "metadata": {
    "colab": {
     "base_uri": "https://localhost:8080/",
     "height": 33
    },
    "colab_type": "code",
    "id": "P_1qez2g2bJa",
    "outputId": "dbbc50e1-76af-4002-b374-2b01ecaefb85"
   },
   "outputs": [
    {
     "data": {
      "text/plain": [
       "{}"
      ]
     },
     "execution_count": 36,
     "metadata": {
      "tags": []
     },
     "output_type": "execute_result"
    }
   ],
   "source": [
    "country_capital"
   ]
  },
  {
   "cell_type": "code",
   "execution_count": 0,
   "metadata": {
    "colab": {},
    "colab_type": "code",
    "id": "vBLUnmZ7yoxe"
   },
   "outputs": [],
   "source": [
    "# dict of dict\n",
    "population = { 'spain': { 'capital':'madrid', 'population':46.77 },\n",
    "           'france': { 'capital':'paris', 'population':66.03 },\n",
    "           'germany': { 'capital':'berlin', 'population':80.62 },\n",
    "           'norway': { 'capital':'oslo', 'population':5.084 } }"
   ]
  },
  {
   "cell_type": "code",
   "execution_count": 34,
   "metadata": {
    "colab": {
     "base_uri": "https://localhost:8080/",
     "height": 33
    },
    "colab_type": "code",
    "id": "J8meEZFoyo5Q",
    "outputId": "15c35b34-f68d-472a-a225-cc0d20bea6db"
   },
   "outputs": [
    {
     "data": {
      "text/plain": [
       "80.62"
      ]
     },
     "execution_count": 34,
     "metadata": {
      "tags": []
     },
     "output_type": "execute_result"
    }
   ],
   "source": [
    "# access population of germany\n",
    "population['germany']['population']"
   ]
  },
  {
   "cell_type": "markdown",
   "metadata": {
    "colab_type": "text",
    "id": "TMSvwZX6yo9O"
   },
   "source": [
    "### Check"
   ]
  },
  {
   "cell_type": "code",
   "execution_count": 54,
   "metadata": {
    "colab": {
     "base_uri": "https://localhost:8080/",
     "height": 33
    },
    "colab_type": "code",
    "id": "CNb0KOQ-ypBn",
    "outputId": "4eb1380f-6166-4ab4-ac5a-3bf46bef89a4"
   },
   "outputs": [
    {
     "data": {
      "text/plain": [
       "{'brand': 'yonex', 'model': 'astrox', 'string': '66ultimax', 'tension': 26}"
      ]
     },
     "execution_count": 54,
     "metadata": {
      "tags": []
     },
     "output_type": "execute_result"
    }
   ],
   "source": [
    "# you have a dictionary explaining spec of a badminton racket\n",
    "\n",
    "racket ={'brand': 'apcas', 'model': 'astrox', 'string': '66ultimax', 'price': 125}\n",
    "\n",
    "# make a copy of the dictionary and save it to racket 2\n",
    "\n",
    "# change brand value to yonex in racket 2\n",
    "\n",
    "# add value 26 under key 'tension' in racket 2\n",
    "\n",
    "# remove value price in racket 2"
   ]
  }
 ],
 "metadata": {
  "colab": {
   "name": "05PythonDictionary.ipynb",
   "provenance": [],
   "version": "0.3.2"
  },
  "kernelspec": {
   "display_name": "Python 3",
   "language": "python",
   "name": "python3"
  },
  "language_info": {
   "codemirror_mode": {
    "name": "ipython",
    "version": 3
   },
   "file_extension": ".py",
   "mimetype": "text/x-python",
   "name": "python",
   "nbconvert_exporter": "python",
   "pygments_lexer": "ipython3",
   "version": "3.7.3"
  }
 },
 "nbformat": 4,
 "nbformat_minor": 1
}
