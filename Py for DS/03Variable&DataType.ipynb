{
 "cells": [
  {
   "cell_type": "markdown",
   "metadata": {
    "colab_type": "text",
    "id": "-klveW-BbPm2"
   },
   "source": [
    "### Variables:\n",
    "\n",
    "- In Python, a variable allows you to refer to a value with a name. To create a variable use =, like x=10.\n",
    "\n",
    "- Why variable? [example: storing a phone number with a name, where name is the variable and phone number is the constant]\n",
    "\n",
    "- Variable name can not start with number or special characters (except \"_\")\n",
    "\n",
    "- You can use the name of variable, instead of the actual value. In case of a change in value of variable you have to change it in every statement.\n",
    "\n",
    "example:\n",
    "\n",
    "      height = 1.7\n",
    "      weight = 79\n",
    "      bmi = 79/1.8**2\n",
    "      bmi = weight/height**2 #if height and weight value changes you don't have to change values for bmi calculation, just use variables\n",
    "      Print(bmi)\n",
    "    \n",
    "- Remember, = in Python means assignment, it doesn't test equality!\n",
    "- Variable data type: int, float, string, boolean\n",
    "- Use \"type(<variable name>)\"\" to check the type of variable\n",
    "- You can change variable type by using int(), string() or float()\n"
   ]
  },
  {
   "cell_type": "code",
   "execution_count": 0,
   "metadata": {
    "colab": {},
    "colab_type": "code",
    "id": "aZ9KgWPycSiK"
   },
   "outputs": [],
   "source": [
    "# create variable\n",
    "\n",
    "name = 'jay' #string\n",
    "score = 90.5 #float\n",
    "subjects = 7 #int\n",
    "result = True #boolean"
   ]
  },
  {
   "cell_type": "code",
   "execution_count": 0,
   "metadata": {
    "colab": {
     "base_uri": "https://localhost:8080/",
     "height": 130
    },
    "colab_type": "code",
    "id": "fBAlJCZphuV8",
    "outputId": "244617a1-58c7-4a64-c952-608f17ef7fe1"
   },
   "outputs": [
    {
     "ename": "SyntaxError",
     "evalue": "ignored",
     "output_type": "error",
     "traceback": [
      "\u001b[0;36m  File \u001b[0;32m\"<ipython-input-4-7e923ed3600a>\"\u001b[0;36m, line \u001b[0;32m1\u001b[0m\n\u001b[0;31m    @name = 'jay'\u001b[0m\n\u001b[0m          ^\u001b[0m\n\u001b[0;31mSyntaxError\u001b[0m\u001b[0;31m:\u001b[0m invalid syntax\n"
     ]
    }
   ],
   "source": [
    "#variable name should not start with special character (Except underscore)\n",
    "@name = 'jay'"
   ]
  },
  {
   "cell_type": "code",
   "execution_count": 0,
   "metadata": {
    "colab": {
     "base_uri": "https://localhost:8080/",
     "height": 130
    },
    "colab_type": "code",
    "id": "QpKkyaczhzvO",
    "outputId": "ed0adb8a-1008-496b-813e-f23363a23dc9"
   },
   "outputs": [
    {
     "ename": "SyntaxError",
     "evalue": "ignored",
     "output_type": "error",
     "traceback": [
      "\u001b[0;36m  File \u001b[0;32m\"<ipython-input-5-a98bfdfe589d>\"\u001b[0;36m, line \u001b[0;32m1\u001b[0m\n\u001b[0;31m    2num = 30\u001b[0m\n\u001b[0m       ^\u001b[0m\n\u001b[0;31mSyntaxError\u001b[0m\u001b[0;31m:\u001b[0m invalid syntax\n"
     ]
    }
   ],
   "source": [
    "#variable name should not start with number\n",
    "2num = 30"
   ]
  },
  {
   "cell_type": "markdown",
   "metadata": {
    "colab_type": "text",
    "id": "4zNR3OSPhn4J"
   },
   "source": [
    "### Data types"
   ]
  },
  {
   "cell_type": "code",
   "execution_count": 0,
   "metadata": {
    "colab": {
     "base_uri": "https://localhost:8080/",
     "height": 85
    },
    "colab_type": "code",
    "id": "nQKgcxvLhOdk",
    "outputId": "30144c13-b840-4ee4-bcf0-bff3ad0e84c0"
   },
   "outputs": [
    {
     "name": "stdout",
     "output_type": "stream",
     "text": [
      "<class 'str'>\n",
      "<class 'float'>\n",
      "<class 'int'>\n",
      "<class 'bool'>\n"
     ]
    }
   ],
   "source": [
    "#Check data types\n",
    "print(type(name))\n",
    "print(type(score))\n",
    "print(type(subjects))\n",
    "print(type(result))"
   ]
  },
  {
   "cell_type": "markdown",
   "metadata": {
    "colab_type": "text",
    "id": "N2rUly2Skwz4"
   },
   "source": [
    "### Check:\n",
    "\n",
    "**Check1:**\n",
    "\n",
    "Identify the Variables and constants in the expression \n",
    "\n",
    "    “y = x + 2” \n",
    "\n",
    "**Check2:**\n",
    "\n",
    "Which of these is a valid variable assignment operation?\n",
    "\n",
    "    name = “jay”\n",
    "    “jay” = name\n",
    "    @name = ‘jay’\n",
    "\n",
    "\n",
    "**Check3:**\n",
    "\n",
    "Guess the type: \n",
    "\n",
    "    a=121.41 \n",
    "    b=“True”\n",
    "    c=False\n",
    "\n",
    "**Check4:**\n",
    "\n",
    "value = ‘False’. What is the data type of value?\n",
    "\n",
    "    Int, bool, string, float\n"
   ]
  }
 ],
 "metadata": {
  "colab": {
   "collapsed_sections": [],
   "name": "03Variable&DataType.ipynb",
   "provenance": [],
   "version": "0.3.2"
  },
  "kernelspec": {
   "display_name": "Python 3",
   "language": "python",
   "name": "python3"
  },
  "language_info": {
   "codemirror_mode": {
    "name": "ipython",
    "version": 3
   },
   "file_extension": ".py",
   "mimetype": "text/x-python",
   "name": "python",
   "nbconvert_exporter": "python",
   "pygments_lexer": "ipython3",
   "version": "3.7.3"
  }
 },
 "nbformat": 4,
 "nbformat_minor": 1
}
