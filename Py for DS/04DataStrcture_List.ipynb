{
 "cells": [
  {
   "cell_type": "markdown",
   "metadata": {
    "colab_type": "text",
    "id": "Rq2s8hwDf8V_"
   },
   "source": [
    "## Python Lists"
   ]
  },
  {
   "attachments": {},
   "cell_type": "markdown",
   "metadata": {},
   "source": [
    "- **List** is an ordered data structure with elements separated by commas and enclosed within square bracket.\n",
    "- properties: ordered, iterable, mutable, can contain multiple data types\n",
    "\n",
    "**why List?**\n",
    "    - Each variable stores a single value.\n",
    "    - If you want to store many values you have a create that many variables separately which is inconvenient.\n",
    "        ex: storing score of all class 10 students.\n",
    "            you have to create number of variables which is same as number of students\n",
    "            if you want to calculate average score of class, it will be difficult with above approach\n",
    "            what is score of last five roll numbers [as variable inherently does not support sequence]\n",
    "- List stores multiple values without creating separate variable for each item\n",
    "- You can store all the values in a list [i.e. collection of values] and assign the list to a single variable ex: members=['jay', 'james', 'kevin']\n",
    "- A list can contain any Python type. But a list itself is also a Python type\n",
    "- List is mutable object because you can change its content after creating. "
   ]
  },
  {
   "cell_type": "code",
   "execution_count": 0,
   "metadata": {
    "colab": {},
    "colab_type": "code",
    "id": "ayc54q6gS_4P"
   },
   "outputs": [],
   "source": [
    "# creating list [two ways]\n",
    "empty_lsit = []\n",
    "empty_lsit = list()"
   ]
  },
  {
   "cell_type": "code",
   "execution_count": 0,
   "metadata": {
    "colab": {
     "base_uri": "https://localhost:8080/",
     "height": 35
    },
    "colab_type": "code",
    "id": "A5SyebOLTbVj",
    "outputId": "56415740-53e7-47a7-9903-905f4a489ba4"
   },
   "outputs": [
    {
     "data": {
      "text/plain": [
       "list"
      ]
     },
     "execution_count": 3,
     "metadata": {
      "tags": []
     },
     "output_type": "execute_result"
    }
   ],
   "source": [
    "# check list type\n",
    "type(empty_lsit)"
   ]
  },
  {
   "cell_type": "code",
   "execution_count": 0,
   "metadata": {
    "colab": {},
    "colab_type": "code",
    "id": "UrQ8MC-cTrDs"
   },
   "outputs": [],
   "source": [
    "# create a list\n",
    "weekdays =['mon', 'tue', 'wed', 'thur', 'fri']"
   ]
  },
  {
   "cell_type": "code",
   "execution_count": 2,
   "metadata": {
    "colab": {
     "base_uri": "https://localhost:8080/",
     "height": 33
    },
    "colab_type": "code",
    "id": "pa3w3Sj1IcSW",
    "outputId": "ba4214c3-8670-49cf-e8f0-aefd178e2191"
   },
   "outputs": [
    {
     "data": {
      "text/plain": [
       "5"
      ]
     },
     "execution_count": 2,
     "metadata": {
      "tags": []
     },
     "output_type": "execute_result"
    }
   ],
   "source": [
    "# check list length\n",
    "len(weekdays)"
   ]
  },
  {
   "cell_type": "markdown",
   "metadata": {
    "colab_type": "text",
    "id": "SLqb6S8pMir7"
   },
   "source": [
    "### Accessing list elements"
   ]
  },
  {
   "cell_type": "code",
   "execution_count": 0,
   "metadata": {
    "colab": {},
    "colab_type": "code",
    "id": "EELNnCjoIkrT"
   },
   "outputs": [],
   "source": [
    "# element 0\n",
    "weekdays[0]"
   ]
  },
  {
   "cell_type": "code",
   "execution_count": 5,
   "metadata": {
    "colab": {
     "base_uri": "https://localhost:8080/",
     "height": 33
    },
    "colab_type": "code",
    "id": "U-Fxr_qmM0Ew",
    "outputId": "2479d912-081c-4fea-c22d-2b151cecb655"
   },
   "outputs": [
    {
     "data": {
      "text/plain": [
       "['mon', 'tue', 'wed']"
      ]
     },
     "execution_count": 5,
     "metadata": {
      "tags": []
     },
     "output_type": "execute_result"
    }
   ],
   "source": [
    "# access element 0 (inclusive) to 3 (exclusive). This is also called list slicing [<start>:<end>:<step>]\n",
    "weekdays[0:3]"
   ]
  },
  {
   "cell_type": "code",
   "execution_count": 6,
   "metadata": {
    "colab": {
     "base_uri": "https://localhost:8080/",
     "height": 33
    },
    "colab_type": "code",
    "id": "EawSZE-1M_Af",
    "outputId": "49579462-431d-43ed-efd9-b1931b0902b3"
   },
   "outputs": [
    {
     "data": {
      "text/plain": [
       "['mon', 'tue', 'wed']"
      ]
     },
     "execution_count": 6,
     "metadata": {
      "tags": []
     },
     "output_type": "execute_result"
    }
   ],
   "source": [
    "# access element 0 to 3. starting point is implied to be zero\n",
    "weekdays[:3]"
   ]
  },
  {
   "cell_type": "code",
   "execution_count": 7,
   "metadata": {
    "colab": {
     "base_uri": "https://localhost:8080/",
     "height": 33
    },
    "colab_type": "code",
    "id": "vSZt11X_NhCw",
    "outputId": "76c25cc0-5f30-4bf1-a836-a792baa2f14d"
   },
   "outputs": [
    {
     "data": {
      "text/plain": [
       "['thur', 'fri']"
      ]
     },
     "execution_count": 7,
     "metadata": {
      "tags": []
     },
     "output_type": "execute_result"
    }
   ],
   "source": [
    "# element 3 to end\n",
    "weekdays[3:]"
   ]
  },
  {
   "cell_type": "code",
   "execution_count": 8,
   "metadata": {
    "colab": {
     "base_uri": "https://localhost:8080/",
     "height": 33
    },
    "colab_type": "code",
    "id": "4DTmV0ZMNpx_",
    "outputId": "66c325c7-ec8c-49c3-f526-d33c3a0efec4"
   },
   "outputs": [
    {
     "data": {
      "text/plain": [
       "'fri'"
      ]
     },
     "execution_count": 8,
     "metadata": {
      "tags": []
     },
     "output_type": "execute_result"
    }
   ],
   "source": [
    "# last element\n",
    "weekdays[-1]"
   ]
  },
  {
   "cell_type": "code",
   "execution_count": 9,
   "metadata": {
    "colab": {
     "base_uri": "https://localhost:8080/",
     "height": 33
    },
    "colab_type": "code",
    "id": "f7FGMa1ENxIx",
    "outputId": "2becca53-a389-4028-c7fd-354faae75259"
   },
   "outputs": [
    {
     "data": {
      "text/plain": [
       "['mon', 'tue', 'wed', 'thur', 'fri']"
      ]
     },
     "execution_count": 9,
     "metadata": {
      "tags": []
     },
     "output_type": "execute_result"
    }
   ],
   "source": [
    "# all element\n",
    "weekdays[:]"
   ]
  },
  {
   "cell_type": "code",
   "execution_count": 13,
   "metadata": {
    "colab": {
     "base_uri": "https://localhost:8080/",
     "height": 33
    },
    "colab_type": "code",
    "id": "oMgbQRl1OcG1",
    "outputId": "d88acaf7-e1bf-44b5-a682-71a9cf4fae0c"
   },
   "outputs": [
    {
     "data": {
      "text/plain": [
       "['mon', 'wed', 'fri']"
      ]
     },
     "execution_count": 13,
     "metadata": {
      "tags": []
     },
     "output_type": "execute_result"
    }
   ],
   "source": [
    "# every 2nd element\n",
    "weekdays[::2]"
   ]
  },
  {
   "cell_type": "code",
   "execution_count": 14,
   "metadata": {
    "colab": {
     "base_uri": "https://localhost:8080/",
     "height": 33
    },
    "colab_type": "code",
    "id": "LtQSfTt4OuPV",
    "outputId": "151bdad8-7218-429b-b4cb-e18779ba0cc0"
   },
   "outputs": [
    {
     "data": {
      "text/plain": [
       "['fri', 'thur', 'wed', 'tue', 'mon']"
      ]
     },
     "execution_count": 14,
     "metadata": {
      "tags": []
     },
     "output_type": "execute_result"
    }
   ],
   "source": [
    "# backwards\n",
    "weekdays[::-1]"
   ]
  },
  {
   "cell_type": "code",
   "execution_count": 16,
   "metadata": {
    "colab": {
     "base_uri": "https://localhost:8080/",
     "height": 33
    },
    "colab_type": "code",
    "id": "L2igiYt_O-38",
    "outputId": "c474f725-1630-46db-e1e0-5af38336b960"
   },
   "outputs": [
    {
     "data": {
      "text/plain": [
       "['fri', 'thur', 'wed', 'tue', 'mon']"
      ]
     },
     "execution_count": 16,
     "metadata": {
      "tags": []
     },
     "output_type": "execute_result"
    }
   ],
   "source": [
    "# reverse list\n",
    "list(reversed(weekdays))"
   ]
  },
  {
   "cell_type": "markdown",
   "metadata": {
    "colab_type": "text",
    "id": "KpeZiZ8YPPRT"
   },
   "source": [
    "### Modifying a list"
   ]
  },
  {
   "cell_type": "code",
   "execution_count": 0,
   "metadata": {
    "colab": {},
    "colab_type": "code",
    "id": "AJP6Y4NzPR8t"
   },
   "outputs": [],
   "source": [
    "member = ['jay', 'james', 'ryan']"
   ]
  },
  {
   "cell_type": "code",
   "execution_count": 26,
   "metadata": {
    "colab": {
     "base_uri": "https://localhost:8080/",
     "height": 33
    },
    "colab_type": "code",
    "id": "id0ZyN-mQAUT",
    "outputId": "64b47b81-2043-4bc9-e2e4-df0c1f5f3483"
   },
   "outputs": [
    {
     "data": {
      "text/plain": [
       "['jay', 'james', 'ryan', 'jeps']"
      ]
     },
     "execution_count": 26,
     "metadata": {
      "tags": []
     },
     "output_type": "execute_result"
    }
   ],
   "source": [
    "# add element to end of list\n",
    "member.append('jeps')\n",
    "member"
   ]
  },
  {
   "cell_type": "code",
   "execution_count": 27,
   "metadata": {
    "colab": {
     "base_uri": "https://localhost:8080/",
     "height": 33
    },
    "colab_type": "code",
    "id": "qLo-RjdYQPNZ",
    "outputId": "e90cff5d-934c-4a94-a11e-c3be38c2eacb"
   },
   "outputs": [
    {
     "data": {
      "text/plain": [
       "['jay', 'james', 'ryan', 'jeps', 'daniel', 'david']"
      ]
     },
     "execution_count": 27,
     "metadata": {
      "tags": []
     },
     "output_type": "execute_result"
    }
   ],
   "source": [
    "# add multiple element to end\n",
    "member.extend(['daniel', 'david'])\n",
    "member"
   ]
  },
  {
   "cell_type": "code",
   "execution_count": 29,
   "metadata": {
    "colab": {
     "base_uri": "https://localhost:8080/",
     "height": 33
    },
    "colab_type": "code",
    "id": "lrkQ4cKhQfIm",
    "outputId": "75cc9f5d-6575-4b34-f36f-18e61f788372"
   },
   "outputs": [
    {
     "data": {
      "text/plain": [
       "['rahul', 'jay', 'james', 'ryan', 'jeps', 'daniel', 'david']"
      ]
     },
     "execution_count": 29,
     "metadata": {
      "tags": []
     },
     "output_type": "execute_result"
    }
   ],
   "source": [
    "# insert element at an index. shifts everything to right\n",
    "member.insert(0,'rahul')\n",
    "member"
   ]
  },
  {
   "cell_type": "code",
   "execution_count": 30,
   "metadata": {
    "colab": {
     "base_uri": "https://localhost:8080/",
     "height": 33
    },
    "colab_type": "code",
    "id": "aBelie3GQfZ8",
    "outputId": "01630ab0-aabf-4188-a59e-2b16af64d73e"
   },
   "outputs": [
    {
     "data": {
      "text/plain": [
       "['jay', 'james', 'ryan', 'jeps', 'daniel', 'david']"
      ]
     },
     "execution_count": 30,
     "metadata": {
      "tags": []
     },
     "output_type": "execute_result"
    }
   ],
   "source": [
    "# remove an element [the 1st instance]\n",
    "member.remove('rahul')\n",
    "member"
   ]
  },
  {
   "cell_type": "code",
   "execution_count": 31,
   "metadata": {
    "colab": {
     "base_uri": "https://localhost:8080/",
     "height": 33
    },
    "colab_type": "code",
    "id": "eoy2v3BbQfmz",
    "outputId": "c0f6dd65-4eb3-4329-d5ee-f821c531d06e"
   },
   "outputs": [
    {
     "data": {
      "text/plain": [
       "'james'"
      ]
     },
     "execution_count": 31,
     "metadata": {
      "tags": []
     },
     "output_type": "execute_result"
    }
   ],
   "source": [
    "# remove a particular element and return it\n",
    "member.pop(1)"
   ]
  },
  {
   "cell_type": "code",
   "execution_count": 33,
   "metadata": {
    "colab": {
     "base_uri": "https://localhost:8080/",
     "height": 33
    },
    "colab_type": "code",
    "id": "W0517zslQfxc",
    "outputId": "ed0cf538-e85b-4186-e3da-0bf37e4cc5d2"
   },
   "outputs": [
    {
     "data": {
      "text/plain": [
       "['jay', 'ryan', 'jeps', 'daniel']"
      ]
     },
     "execution_count": 33,
     "metadata": {
      "tags": []
     },
     "output_type": "execute_result"
    }
   ],
   "source": [
    "# remove a particular element and does not return it\n",
    "del member[-1]\n",
    "member"
   ]
  },
  {
   "cell_type": "code",
   "execution_count": 36,
   "metadata": {
    "colab": {
     "base_uri": "https://localhost:8080/",
     "height": 33
    },
    "colab_type": "code",
    "id": "lMV-G73oQf8a",
    "outputId": "cf0507d6-aaa1-4448-f940-cc048bb789c8"
   },
   "outputs": [
    {
     "data": {
      "text/plain": [
       "['jay', 'ryan', 'jeps', 'david']"
      ]
     },
     "execution_count": 36,
     "metadata": {
      "tags": []
     },
     "output_type": "execute_result"
    }
   ],
   "source": [
    "# change/replace an element\n",
    "member[3] = 'david'\n",
    "member"
   ]
  },
  {
   "cell_type": "code",
   "execution_count": 37,
   "metadata": {
    "colab": {
     "base_uri": "https://localhost:8080/",
     "height": 33
    },
    "colab_type": "code",
    "id": "yl_uimKSS3Z2",
    "outputId": "866e2dff-8803-41d5-e516-6a8a67c94a3a"
   },
   "outputs": [
    {
     "data": {
      "text/plain": [
       "['jay', 'ryan', 'abc', 'xyz']"
      ]
     },
     "execution_count": 37,
     "metadata": {
      "tags": []
     },
     "output_type": "execute_result"
    }
   ],
   "source": [
    "# change multiple list elements\n",
    "member[2:] = ['abc', 'xyz']\n",
    "member"
   ]
  },
  {
   "cell_type": "code",
   "execution_count": 38,
   "metadata": {
    "colab": {
     "base_uri": "https://localhost:8080/",
     "height": 33
    },
    "colab_type": "code",
    "id": "7_K6TJ6RQgGu",
    "outputId": "db6a34a5-ed2e-47c5-eea9-c95bfbe547a8"
   },
   "outputs": [
    {
     "data": {
      "text/plain": [
       "['jay', 'ryan', 'abc', 'xyz', 'ayan', 'sims']"
      ]
     },
     "execution_count": 38,
     "metadata": {
      "tags": []
     },
     "output_type": "execute_result"
    }
   ],
   "source": [
    "# add lists (this is slower than extend method)\n",
    "member1 = member + ['ayan', 'sims']\n",
    "member1"
   ]
  },
  {
   "cell_type": "code",
   "execution_count": 39,
   "metadata": {
    "colab": {
     "base_uri": "https://localhost:8080/",
     "height": 33
    },
    "colab_type": "code",
    "id": "WCAfY0Z3QgRw",
    "outputId": "ba6e8bd6-e559-4cc2-8f53-65afa26aaf77"
   },
   "outputs": [
    {
     "data": {
      "text/plain": [
       "['jay', 'ryan', 'abc', 'xyz', 'ayan', 'sims', [1, 2, 3]]"
      ]
     },
     "execution_count": 39,
     "metadata": {
      "tags": []
     },
     "output_type": "execute_result"
    }
   ],
   "source": [
    "# what happens when you append a list to another list\n",
    "member1.append([1,2,3])\n",
    "member1"
   ]
  },
  {
   "cell_type": "markdown",
   "metadata": {
    "colab_type": "text",
    "id": "mWtr4JfvQgcv"
   },
   "source": [
    "### How python lists works behind the scene"
   ]
  },
  {
   "cell_type": "code",
   "execution_count": 40,
   "metadata": {
    "colab": {
     "base_uri": "https://localhost:8080/",
     "height": 33
    },
    "colab_type": "code",
    "id": "qLV4MxL2QgnY",
    "outputId": "5dd39833-267b-4d40-c5ee-672ece65e189"
   },
   "outputs": [
    {
     "name": "stdout",
     "output_type": "stream",
     "text": [
      "['one', 2, 3]\n"
     ]
    }
   ],
   "source": [
    "x = [1,2,3] # this stores the element in computer memory and store this address in x [not elements in x]\n",
    "y=x\n",
    "y[0]='one'\n",
    "print(x) # because x and y points to same reference, any change in y will also reflect in x"
   ]
  },
  {
   "cell_type": "code",
   "execution_count": 41,
   "metadata": {
    "colab": {
     "base_uri": "https://localhost:8080/",
     "height": 33
    },
    "colab_type": "code",
    "id": "8Na3dI2PQgz9",
    "outputId": "ee1ce22d-4db5-49a9-cfe2-b19f9721a586"
   },
   "outputs": [
    {
     "name": "stdout",
     "output_type": "stream",
     "text": [
      "[4, 5, 6] ['four', 5, 6]\n"
     ]
    }
   ],
   "source": [
    "a =[4,5,6]\n",
    "b = list(a) # or b = a[:], this will create a new list\n",
    "b[0] = 'four'\n",
    "print(a, b)"
   ]
  },
  {
   "cell_type": "markdown",
   "metadata": {
    "colab_type": "text",
    "id": "29lMXpfUV1jf"
   },
   "source": [
    "### Other list operations"
   ]
  },
  {
   "cell_type": "code",
   "execution_count": 50,
   "metadata": {
    "colab": {
     "base_uri": "https://localhost:8080/",
     "height": 33
    },
    "colab_type": "code",
    "id": "BXbjwITyV4ih",
    "outputId": "bb54498b-47fc-4061-ae18-36f14c022294"
   },
   "outputs": [
    {
     "data": {
      "text/plain": [
       "['mon', 'tue', 'wed', 'thur', 'fri']"
      ]
     },
     "execution_count": 50,
     "metadata": {
      "tags": []
     },
     "output_type": "execute_result"
    }
   ],
   "source": [
    "weekdays"
   ]
  },
  {
   "cell_type": "code",
   "execution_count": 51,
   "metadata": {
    "colab": {
     "base_uri": "https://localhost:8080/",
     "height": 33
    },
    "colab_type": "code",
    "id": "fiNW1tUfWFHP",
    "outputId": "ffb7ffba-fa5b-48dd-9b9f-7d157c80174d"
   },
   "outputs": [
    {
     "data": {
      "text/plain": [
       "1"
      ]
     },
     "execution_count": 51,
     "metadata": {
      "tags": []
     },
     "output_type": "execute_result"
    }
   ],
   "source": [
    "# counts the number of instances\n",
    "weekdays.count('wed')"
   ]
  },
  {
   "cell_type": "code",
   "execution_count": 52,
   "metadata": {
    "colab": {
     "base_uri": "https://localhost:8080/",
     "height": 33
    },
    "colab_type": "code",
    "id": "YZXhz3huWPT9",
    "outputId": "05352785-dac0-4113-de36-1764c0ad00a5"
   },
   "outputs": [
    {
     "data": {
      "text/plain": [
       "3"
      ]
     },
     "execution_count": 52,
     "metadata": {
      "tags": []
     },
     "output_type": "execute_result"
    }
   ],
   "source": [
    "# returns index of first instance\n",
    "weekdays.index('thur')"
   ]
  },
  {
   "cell_type": "code",
   "execution_count": 53,
   "metadata": {
    "colab": {
     "base_uri": "https://localhost:8080/",
     "height": 33
    },
    "colab_type": "code",
    "id": "w4XBvtvyWi0R",
    "outputId": "ff49d4e4-e5ce-47ca-d1f1-e30437cc2efe"
   },
   "outputs": [
    {
     "data": {
      "text/plain": [
       "['fri', 'mon', 'thur', 'tue', 'wed']"
      ]
     },
     "execution_count": 53,
     "metadata": {
      "tags": []
     },
     "output_type": "execute_result"
    }
   ],
   "source": [
    "# sort a list inplace (modifies but does not return the list)\n",
    "weekdays.sort()\n",
    "weekdays"
   ]
  },
  {
   "cell_type": "code",
   "execution_count": 54,
   "metadata": {
    "colab": {
     "base_uri": "https://localhost:8080/",
     "height": 33
    },
    "colab_type": "code",
    "id": "5ugMrGDpWuaj",
    "outputId": "11403faa-0e09-45cf-cbcd-4aa3cfa532e2"
   },
   "outputs": [
    {
     "data": {
      "text/plain": [
       "['wed', 'tue', 'thur', 'mon', 'fri']"
      ]
     },
     "execution_count": 54,
     "metadata": {
      "tags": []
     },
     "output_type": "execute_result"
    }
   ],
   "source": [
    "# sort in reverse\n",
    "weekdays.sort(reverse=True)\n",
    "weekdays"
   ]
  },
  {
   "cell_type": "code",
   "execution_count": 55,
   "metadata": {
    "colab": {
     "base_uri": "https://localhost:8080/",
     "height": 33
    },
    "colab_type": "code",
    "id": "01Yya9iJW2qe",
    "outputId": "e6e896e2-e437-4b70-b922-27fc82721c16"
   },
   "outputs": [
    {
     "data": {
      "text/plain": [
       "['wed', 'tue', 'mon', 'fri', 'thur']"
      ]
     },
     "execution_count": 55,
     "metadata": {
      "tags": []
     },
     "output_type": "execute_result"
    }
   ],
   "source": [
    "# sort by a key\n",
    "weekdays.sort(key=len)\n",
    "weekdays"
   ]
  },
  {
   "cell_type": "code",
   "execution_count": 56,
   "metadata": {
    "colab": {
     "base_uri": "https://localhost:8080/",
     "height": 33
    },
    "colab_type": "code",
    "id": "VWIhYwBDZJdT",
    "outputId": "d6654648-75ae-422a-d8cc-f41850dd6fec"
   },
   "outputs": [
    {
     "data": {
      "text/plain": [
       "['fri', 'mon', 'thur', 'tue', 'wed']"
      ]
     },
     "execution_count": 56,
     "metadata": {
      "tags": []
     },
     "output_type": "execute_result"
    }
   ],
   "source": [
    "# sort without changing list value\n",
    "weekdays = ['mon', 'tue', 'wed', 'thur', 'fri']\n",
    "sorted(weekdays)"
   ]
  },
  {
   "cell_type": "code",
   "execution_count": 57,
   "metadata": {
    "colab": {
     "base_uri": "https://localhost:8080/",
     "height": 33
    },
    "colab_type": "code",
    "id": "c5VWvDsxZJ2f",
    "outputId": "64aa1ef5-abda-4025-e29a-cf7f017a6ab4"
   },
   "outputs": [
    {
     "data": {
      "text/plain": [
       "['wed', 'tue', 'thur', 'mon', 'fri']"
      ]
     },
     "execution_count": 57,
     "metadata": {
      "tags": []
     },
     "output_type": "execute_result"
    }
   ],
   "source": [
    "# sort in reverse\n",
    "sorted(weekdays, reverse=True)"
   ]
  },
  {
   "cell_type": "code",
   "execution_count": 58,
   "metadata": {
    "colab": {
     "base_uri": "https://localhost:8080/",
     "height": 33
    },
    "colab_type": "code",
    "id": "96TOnRHOZJ8T",
    "outputId": "d1a4f63a-6d65-4ec1-a103-e5684158cc64"
   },
   "outputs": [
    {
     "data": {
      "text/plain": [
       "['mon', 'tue', 'wed', 'fri', 'thur']"
      ]
     },
     "execution_count": 58,
     "metadata": {
      "tags": []
     },
     "output_type": "execute_result"
    }
   ],
   "source": [
    "# sort by a key\n",
    "sorted(weekdays, key=len)"
   ]
  },
  {
   "cell_type": "code",
   "execution_count": 59,
   "metadata": {
    "colab": {
     "base_uri": "https://localhost:8080/",
     "height": 33
    },
    "colab_type": "code",
    "id": "6lXICHovZKAS",
    "outputId": "f0d4a528-c3e4-4fb9-b175-0aa2d5dc0ba1"
   },
   "outputs": [
    {
     "data": {
      "text/plain": [
       "True"
      ]
     },
     "execution_count": 59,
     "metadata": {
      "tags": []
     },
     "output_type": "execute_result"
    }
   ],
   "source": [
    "# check whether an element present in a list\n",
    "'mon' in weekdays"
   ]
  },
  {
   "cell_type": "code",
   "execution_count": 0,
   "metadata": {
    "colab": {},
    "colab_type": "code",
    "id": "i9x4dxDjZKDm"
   },
   "outputs": [],
   "source": [
    "# create list\n",
    "same_days=list(weekdays)\n",
    "new_days=weekdays"
   ]
  },
  {
   "cell_type": "code",
   "execution_count": 63,
   "metadata": {
    "colab": {
     "base_uri": "https://localhost:8080/",
     "height": 33
    },
    "colab_type": "code",
    "id": "c8dBKEjAZKNL",
    "outputId": "2595b743-3003-4866-d874-bfe1aba21ff3"
   },
   "outputs": [
    {
     "data": {
      "text/plain": [
       "False"
      ]
     },
     "execution_count": 63,
     "metadata": {
      "tags": []
     },
     "output_type": "execute_result"
    }
   ],
   "source": [
    "same_days is weekdays"
   ]
  },
  {
   "cell_type": "code",
   "execution_count": 64,
   "metadata": {
    "colab": {
     "base_uri": "https://localhost:8080/",
     "height": 33
    },
    "colab_type": "code",
    "id": "VtITlj50ZKRO",
    "outputId": "3fb8e750-7d9f-4639-f1bb-98fdda4b4813"
   },
   "outputs": [
    {
     "data": {
      "text/plain": [
       "True"
      ]
     },
     "execution_count": 64,
     "metadata": {
      "tags": []
     },
     "output_type": "execute_result"
    }
   ],
   "source": [
    "new_days is weekdays"
   ]
  },
  {
   "cell_type": "code",
   "execution_count": 65,
   "metadata": {
    "colab": {
     "base_uri": "https://localhost:8080/",
     "height": 33
    },
    "colab_type": "code",
    "id": "-OJEN8cXZKUL",
    "outputId": "7970b156-0ef0-4f40-ec0d-8592441b35b1"
   },
   "outputs": [
    {
     "data": {
      "text/plain": [
       "True"
      ]
     },
     "execution_count": 65,
     "metadata": {
      "tags": []
     },
     "output_type": "execute_result"
    }
   ],
   "source": [
    "new_days == weekdays # checks whether they have same content"
   ]
  },
  {
   "cell_type": "markdown",
   "metadata": {},
   "source": [
    "#### Check1:\n",
    "\n",
    "1. create a list \"info\" which should have atlest 4 elements [must contain string,int, float and boolean]\n",
    "2. create a list which contains number from 0 till 50."
   ]
  },
  {
   "cell_type": "markdown",
   "metadata": {},
   "source": [
    "#### Check 2:\n",
    "\n",
    "You have made a friend's list for inviting them to a party.\n",
    "You discovered there are some error in the names. Fix them using list element access techniques.\n",
    "\n",
    "friends = ['ajay', 'rajeshh', 'rajuv', 'Jay', 'priyanka']\n",
    "\n",
    "1. change ajay, rajeshh, rajuv to Ajay, Rajesh and Rajiv respectively\n",
    "2. capitalize P in priyanka"
   ]
  },
  {
   "cell_type": "markdown",
   "metadata": {},
   "source": [
    "#### Check 3:"
   ]
  },
  {
   "cell_type": "code",
   "execution_count": null,
   "metadata": {},
   "outputs": [],
   "source": [
    "# Create a list called \"members\"\n",
    "\n",
    "# Add the following strings to the instructors list \n",
    "    # \"Jay\"\n",
    "    # \"Ryan\"\n",
    "    # \"Rajiv\"\n",
    "\n",
    "# print the member listto make sure you've done this correctly!"
   ]
  },
  {
   "cell_type": "markdown",
   "metadata": {},
   "source": [
    "#### Check 4:\n",
    "\n",
    "Which of the below methods does not add one or more elements to a list?\n",
    "\n",
    "    - extend\n",
    "    - append\n",
    "    - add\n",
    "    - insert"
   ]
  },
  {
   "cell_type": "markdown",
   "metadata": {},
   "source": [
    "#### Check 5:"
   ]
  },
  {
   "cell_type": "code",
   "execution_count": null,
   "metadata": {},
   "outputs": [],
   "source": [
    "# Create a list called \"members\"\n",
    "\n",
    "\n",
    "# Add the following strings to the \"member\" list \n",
    "    # \"Jay\"\n",
    "    # \"Ryan\"\n",
    "    # \"Rajiv\"\n",
    "\n",
    "\n",
    "# Remove the last value in the list\n",
    "\n",
    "# Remove the first value in the list\n",
    "\n",
    "# Add the string \"Only\" to the beginning of the list\n",
    "\n",
    "\n",
    "# print the member listto make sure you've done this correctly!"
   ]
  }
 ],
 "metadata": {
  "colab": {
   "collapsed_sections": [],
   "name": "04DataStrcture_List.ipynb",
   "provenance": [],
   "version": "0.3.2"
  },
  "kernelspec": {
   "display_name": "Python 3",
   "language": "python",
   "name": "python3"
  },
  "language_info": {
   "codemirror_mode": {
    "name": "ipython",
    "version": 3
   },
   "file_extension": ".py",
   "mimetype": "text/x-python",
   "name": "python",
   "nbconvert_exporter": "python",
   "pygments_lexer": "ipython3",
   "version": "3.7.3"
  }
 },
 "nbformat": 4,
 "nbformat_minor": 1
}
