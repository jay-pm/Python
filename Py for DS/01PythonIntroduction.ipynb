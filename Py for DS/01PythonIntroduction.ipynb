{
 "cells": [
  {
   "cell_type": "markdown",
   "metadata": {
    "colab_type": "text",
    "id": "H3_82dQlrRra"
   },
   "source": [
    "### Introduction:\n",
    "\n",
    "- Developed by Guido Van Rossum in early 1990’s\n",
    "- Python versions [1.0 : Jan, 1994, 2.0: Oct, 2000, 3.0:  Dec, 2008]\n",
    "- General Purpose: we can build any software using this\n",
    "- Open Source! Free!\n",
    "- There are many Python Packages, also for Data Science\n",
    "- Many applications and fields\n",
    "- We will use Version 3.x - www.python.org/downloads/"
   ]
  },
  {
   "cell_type": "markdown",
   "metadata": {
    "colab_type": "text",
    "id": "o0rVM9U6rig4"
   },
   "source": [
    "### Python: Why & Where?\n",
    "\n",
    "**Why?**\n",
    "- Open source [need not worry about purchasing licenses or software]\n",
    "- Very large and collaborative developer community [You have a solution for all]\n",
    "- Beginner friendly language [Easy to learn, syntax is like English language]\n",
    "- Easy to understand [even if you are not a skilled programmer]\n",
    "- Popular language [Used by companies like Google, IBM and many more]\n",
    "- Extensive package for data analytics [Pandas, Scikit learn etc]\n",
    "- Most future technologies rely on Python [AI, Big-data, data mining, Automation etc]\n",
    "- Production ready [easy and efficient deployment]\n",
    "\n",
    "**Where?**\n",
    "- Backend and web development\n",
    "- Data analysis\n",
    "- AI and scientific computing\n",
    "- Games and desktop apps\n",
    "- GUIs\n"
   ]
  },
  {
   "cell_type": "markdown",
   "metadata": {
    "colab_type": "text",
    "id": "vxqb0lYlrzKU"
   },
   "source": [
    "### Hello World"
   ]
  },
  {
   "cell_type": "code",
   "execution_count": 0,
   "metadata": {
    "colab": {},
    "colab_type": "code",
    "id": "WVE4-c2Zq3Eq"
   },
   "outputs": [],
   "source": [
    "#Hello world in C\n",
    "\n",
    "#include <stdio.h>\n",
    "int main(void)\n",
    "{\n",
    "    printf(\"hello, world\\n\");\n",
    "}"
   ]
  },
  {
   "cell_type": "code",
   "execution_count": 0,
   "metadata": {
    "colab": {},
    "colab_type": "code",
    "id": "ksC9r7_vsOuc"
   },
   "outputs": [],
   "source": [
    "#Hello world in C++\n",
    "\n",
    "#include <iostream>\n",
    "\n",
    "int main()\n",
    "{\n",
    "    std::cout << \"Hello, world!\\n\";\n",
    "    return 0;\n",
    "}"
   ]
  },
  {
   "cell_type": "code",
   "execution_count": 0,
   "metadata": {
    "colab": {},
    "colab_type": "code",
    "id": "6Krh4CnKsQ9N"
   },
   "outputs": [],
   "source": [
    "#Hello world in Java\n",
    "\n",
    "class HelloWorldApp {\n",
    "    public static void main(String[] args)\n",
    "{\n",
    "        System.out.println(\"Hello World!\"); \n",
    "    }\n",
    "}"
   ]
  },
  {
   "cell_type": "code",
   "execution_count": 0,
   "metadata": {
    "colab": {
     "base_uri": "https://localhost:8080/",
     "height": 34
    },
    "colab_type": "code",
    "id": "Fvg1eCcjscvr",
    "outputId": "49e678f7-8f30-413b-9600-63782c05d2a2"
   },
   "outputs": [
    {
     "name": "stdout",
     "output_type": "stream",
     "text": [
      "Hello World\n"
     ]
    }
   ],
   "source": [
    "#Hello world in Python\n",
    "\n",
    "print(\"Hello World\")"
   ]
  },
  {
   "cell_type": "markdown",
   "metadata": {
    "colab_type": "text",
    "id": "oi-qDv7BspjK"
   },
   "source": [
    "### Check: When to use Python?"
   ]
  },
  {
   "cell_type": "markdown",
   "metadata": {
    "colab_type": "text",
    "id": "epTUrvamso4W"
   },
   "source": [
    "#### Check 1\n",
    "**Python is a pretty versatile language. For which applications can you use Python?**\n",
    "- You want to do some quick calculations.\n",
    "- For your new business, you want to develop a database-driven website.\n",
    "- Your boss asks you to clean and analyze the results of the latest satisfaction survey.\n",
    "- All of the above."
   ]
  },
  {
   "cell_type": "markdown",
   "metadata": {
    "colab_type": "text",
    "id": "5fI1coAVs97s"
   },
   "source": [
    "### Check 2\n",
    "**Which of the following statement is false about Python?**\n",
    "- Python is an open source language\n",
    "- Python is similar to coding in English\n",
    "- Python can not be used for anything other than data analytics\n",
    "- Python has a large and active developer community"
   ]
  },
  {
   "cell_type": "markdown",
   "metadata": {
    "colab_type": "text",
    "id": "okAxlCm8tP31"
   },
   "source": [
    "### Installation\n",
    "\n",
    "- www.python.org/downloads/ \n",
    "- https://www.anaconda.com/distribution/\n",
    "\n",
    "If you are going to use python for Data science kindly install Anaconda\n"
   ]
  },
  {
   "cell_type": "markdown",
   "metadata": {
    "colab_type": "text",
    "id": "uafWiYERtfvv"
   },
   "source": [
    "### Python IDEs\n",
    "\n",
    "**IDE: Integrated Development Environment**\n",
    "- write, run and play with code in one place\n",
    "- Syntax highlighting\n",
    "- Bracket matching\n",
    "- Auto complete\n",
    "- Debugging\n",
    "\n",
    "\n",
    "Example: Atom, PyCharm, Spyder\n",
    "\n",
    "Jupyter [web based IDE]\n",
    "\n",
    "Google Colab [Jupyter in cloud with GPU/TPU support]"
   ]
  },
  {
   "cell_type": "markdown",
   "metadata": {
    "colab_type": "text",
    "id": "mJYwFAHbt4hZ"
   },
   "source": [
    "### Quick Notes\n",
    "\n",
    "- The ; sign is used to place commands on the same line. The following two code chunks are equivalent:\n",
    "        Same line\n",
    "              command1; command2\n",
    "        Separate lines\n",
    "            command1 \n",
    "            command2 \n",
    "- use help(function) to get details on the function\n",
    "- in ipython shell use “?” in front of a function to get information on the same\n",
    "- To check docstring of a function use SHIFT+TAB in jupyter and CTRL+I in spyder\n",
    "- You can add comments to your Python scripts using the # tag. Comments are important to make sure that you and others can understand what your code is about. These comments are not run as Python code, so they will not influence your result."
   ]
  },
  {
   "cell_type": "markdown",
   "metadata": {
    "colab_type": "text",
    "id": "qxWBO45nuTQu"
   },
   "source": [
    "**Jupyter most used shortcuts**\n",
    "\n",
    "- Edit mode is in green color (to go to edit mode from command mode press enter when you are in the cell)\n",
    "- Command mode is in blue color(to go to command mode from edit mode press escape when you are in the cell)\n",
    "- Run a cell and stay in the cell: Ctrl + Enter\n",
    "- Run a cell and move to next cell: Shift + Enter\n",
    "- Add a cell above: Escape + a\n",
    "- Add a cell below: Escape + b\n",
    "- Delete a cell above: Escape + dd\n",
    "\n",
    "\n"
   ]
  }
 ],
 "metadata": {
  "colab": {
   "collapsed_sections": [],
   "name": "01PythonIntroduction.ipynb",
   "provenance": [],
   "version": "0.3.2"
  },
  "kernelspec": {
   "display_name": "Python 3",
   "language": "python",
   "name": "python3"
  },
  "language_info": {
   "codemirror_mode": {
    "name": "ipython",
    "version": 3
   },
   "file_extension": ".py",
   "mimetype": "text/x-python",
   "name": "python",
   "nbconvert_exporter": "python",
   "pygments_lexer": "ipython3",
   "version": "3.7.3"
  }
 },
 "nbformat": 4,
 "nbformat_minor": 1
}
