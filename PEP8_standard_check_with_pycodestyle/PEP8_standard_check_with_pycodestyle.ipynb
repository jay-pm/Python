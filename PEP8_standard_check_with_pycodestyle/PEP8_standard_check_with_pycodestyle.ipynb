{
 "cells": [
  {
   "cell_type": "markdown",
   "metadata": {},
   "source": [
    "## Checking your code for PEP 8 standard"
   ]
  },
  {
   "cell_type": "markdown",
   "metadata": {},
   "source": [
    "### \"Code is read much more often than it is written\""
   ]
  },
  {
   "cell_type": "markdown",
   "metadata": {},
   "source": [
    "- PEP 8: Python Enhancement Protocol 8 \n",
    "- PEP 8 is the defacto style guide for python code\n",
    "- PEP 8 let us know how to format our code to be as readable as possible\n",
    "- PEP 8 official page: https://www.python.org/dev/peps/pep-0008/"
   ]
  },
  {
   "cell_type": "markdown",
   "metadata": {},
   "source": [
    "** How to keep up with many rules defined in PEP 8?**\n",
    "1. IDEs: Most of the IDEs will flag a violation as soon as we write a bad line of code\n",
    "2. pycodestyle package: Checks code in multiple files at once and outputs description of the violations along with information where we need to fix them"
   ]
  },
  {
   "cell_type": "markdown",
   "metadata": {},
   "source": [
    "**Intall pycodestyle**\n",
    "    - pip install pycodestyle [from command line or conda prompt]\n",
    " - pycodestyle can be run from a command line and also from a python script"
   ]
  },
  {
   "cell_type": "markdown",
   "metadata": {},
   "source": [
    "I have prepared two python codes [before_check.py and after_check.py] to demonstrate usage of pycodestyle. you can find the script [here](https://github.com/jay-pm/Python/tree/master/PEP8_standard_check_with_pycodestyle)."
   ]
  },
  {
   "cell_type": "markdown",
   "metadata": {},
   "source": [
    "### From command line\n",
    "\n",
    "run pycodestyle before_check.py at command line\n",
    "\n",
    "<img src= 'before_check.jpg', width=80%>\n",
    "\n",
    "fix the above erros in after_check.py and run pycodestyle on after_check.py from command line\n",
    "\n",
    "<img src='after_check.jpg', width=80%>\n",
    "\n",
    "Note: \n",
    "I have to check how to fix \"W292 no newline at end of file\"\n",
    "\n",
    "Reference: https://github.com/PyCQA/pycodestyle/issues/365\n",
    "W391 blank line at end of file introduces --> W292 no newline at end of file"
   ]
  },
  {
   "cell_type": "markdown",
   "metadata": {},
   "source": [
    "### pycodestyle output message\n",
    "\n",
    "**\"before_check.py:2:6: E225 missing whitespace around operator\"**\n",
    "-  before_check.py: File name\n",
    "-  2: line number\n",
    "-  6: column number\n",
    "-  E225: Error code\n",
    "-  missing whitespace around operator: Error drscription\n",
    "\n",
    "Note: The output does not use zero based indexing"
   ]
  },
  {
   "cell_type": "markdown",
   "metadata": {},
   "source": [
    "### From python code"
   ]
  },
  {
   "cell_type": "code",
   "execution_count": 1,
   "metadata": {
    "collapsed": true
   },
   "outputs": [],
   "source": [
    "# Import needed package\n",
    "import pycodestyle\n",
    "\n",
    "# pycodestyle docstring:  Check Python source code formatting, according to PEP 8\n",
    "    \n",
    "# Create a StyleGuide instance\n",
    "style_checker=pycodestyle.StyleGuide()\n",
    "\n",
    "#  Init signature: pycodestyle.StyleGuide(*args, **kwargs)\n",
    "## Docstring: Initialize a PEP-8 instance with few options."
   ]
  },
  {
   "cell_type": "code",
   "execution_count": 2,
   "metadata": {},
   "outputs": [
    {
     "name": "stdout",
     "output_type": "stream",
     "text": [
      "before_check.py:1:3: E114 indentation is not a multiple of four (comment)\n",
      "before_check.py:1:3: E116 unexpected indentation (comment)\n",
      "before_check.py:2:6: E225 missing whitespace around operator\n",
      "before_check.py:2:13: E231 missing whitespace after ','\n",
      "before_check.py:2:21: E231 missing whitespace after ','\n",
      "before_check.py:2:38: E261 at least two spaces before inline comment\n",
      "before_check.py:2:38: E262 inline comment should start with '# '\n",
      "before_check.py:5:7: E201 whitespace after '('\n",
      "before_check.py:5:16: W292 no newline at end of file\n"
     ]
    },
    {
     "data": {
      "text/plain": [
       "<pycodestyle.StandardReport at 0x52e07f0>"
      ]
     },
     "execution_count": 2,
     "metadata": {},
     "output_type": "execute_result"
    }
   ],
   "source": [
    "# Run PEP 8 check on \"before_check.py\"\n",
    "# to run it on multiple files at once, just add file names in square bracket with quotes\n",
    "style_checker.check_files(['before_check.py'])"
   ]
  },
  {
   "cell_type": "code",
   "execution_count": 4,
   "metadata": {},
   "outputs": [
    {
     "name": "stdout",
     "output_type": "stream",
     "text": [
      "after_check.py:5:13: W292 no newline at end of file\n"
     ]
    },
    {
     "data": {
      "text/plain": [
       "<pycodestyle.StandardReport at 0x52e07f0>"
      ]
     },
     "execution_count": 4,
     "metadata": {},
     "output_type": "execute_result"
    }
   ],
   "source": [
    "# Fix above mentioned pep 8 violations and run PEP 8 check on \"after_check.py\"\n",
    "style_checker.check_files(['after_check.py'])"
   ]
  }
 ],
 "metadata": {
  "kernelspec": {
   "display_name": "Python 3",
   "language": "python",
   "name": "python3"
  },
  "language_info": {
   "codemirror_mode": {
    "name": "ipython",
    "version": 3
   },
   "file_extension": ".py",
   "mimetype": "text/x-python",
   "name": "python",
   "nbconvert_exporter": "python",
   "pygments_lexer": "ipython3",
   "version": "3.6.6"
  }
 },
 "nbformat": 4,
 "nbformat_minor": 2
}
